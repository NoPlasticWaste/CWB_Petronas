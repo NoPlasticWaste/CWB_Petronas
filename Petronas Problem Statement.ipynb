{
 "cells": [
  {
   "cell_type": "code",
   "execution_count": 4,
   "metadata": {},
   "outputs": [
    {
     "name": "stdout",
     "output_type": "stream",
     "text": [
      "['/sites/default/files/about-us/petronas-group-of-companies-2021.pdf', '/sites/default/files/about-us/petronas-group-of-companies-2021.pdf', '/sites/default/files/uploads/content/2023/Financial%20Operational%20Report%20Q4%20FY2022.pdf', '/sites/default/files/uploads/content/2023/Financial%20Operational%20Report%20Q4%20FY2022.pdf', '/sites/default/files/uploads/content/2023/Financial%20Operational%20Report%20Q4%20FY2022.pdf', '/sites/default/files/uploads/content/2023/Financial%20Operational%20Report%20Q4%20FY2022.pdf', '/sites/default/files/uploads/content/2023/PETRONAS%20Activity%20Outlook%202023-2025.pdf', '/sites/default/files/uploads/content/2023/PETRONAS%20Activity%20Outlook%202023-2025.pdf', '/sites/default/files/uploads/content/2022/PETRONAS%20Group%20Quarterly%20Report%20Q3%20FY2022.pdf', '/sites/default/files/uploads/content/2022/PETRONAS%20Group%20Quarterly%20Report%20Q3%20FY2022.pdf', '/sites/default/files/uploads/content/2022/Financial_Operational%20Report_Q3%20FY2022.pdf', '/sites/default/files/uploads/content/2022/Financial_Operational%20Report_Q3%20FY2022.pdf', '/sites/default/files/uploads/content/2022/Financial-Operational-Report-Q2-2022.pdf', '/sites/default/files/uploads/content/2022/Financial-Operational-Report-Q2-2022.pdf', '/sites/default/files/uploads/content/2022/Financial-Report-Q2-FY2022.pdf', '/sites/default/files/uploads/content/2022/Financial-Report-Q2-FY2022.pdf', '/sites/default/files/uploads/content/2022/Financial-Operational-Report-Q1-2022.pdf', '/sites/default/files/uploads/content/2022/Financial-Operational-Report-Q1-2022.pdf', '/sites/default/files/uploads/content/2022/Financial%20Report%20Q1%202022-v2.pdf', '/sites/default/files/uploads/content/2022/Financial%20Report%20Q1%202022-v2.pdf', '/sites/default/files/uploads/content/2022/Redemption%20of%203.125%25%20Guaranteed%20Notes%20Issued%20by%20PETRONAS%20Capital%20Ltd_.pdf', '/sites/default/files/uploads/content/2022/Redemption%20of%203.125%25%20Guaranteed%20Notes%20Issued%20by%20PETRONAS%20Capital%20Ltd_.pdf', '/sites/default/files/uploads/content/2022/PETRONAS-Activity-Outlook-2022-2024.pdf', '/sites/default/files/uploads/content/2022/PETRONAS-Activity-Outlook-2022-2024.pdf', '/sites/default/files/uploads/content/2023/PETRONAS-PIR2021-Integrated-Report-2021.pdf', '/sites/default/files/uploads/content/2023/PETRONAS-PIR2021-Integrated-Report-2021.pdf']\n"
     ]
    }
   ],
   "source": [
    "from selenium import webdriver\n",
    "from bs4 import BeautifulSoup\n",
    "import time\n",
    "\n",
    "# set up the driver\n",
    "driver = webdriver.Firefox()\n",
    "url = 'https://www.petronas.com/media/reports'\n",
    "driver.get(url)\n",
    "\n",
    "# define a function to scroll to the bottom of the page\n",
    "def scroll_to_bottom():\n",
    "    last_height = driver.execute_script(\"return document.body.scrollHeight\")\n",
    "    driver.execute_script(\"window.scrollTo(0, document.body.scrollHeight);\")\n",
    "    time.sleep(5) # wait for 2 seconds to load more content\n",
    "    new_height = driver.execute_script(\"return document.body.scrollHeight\")\n",
    "    if new_height != last_height:\n",
    "        scroll_to_bottom() # scroll again if more content is loaded\n",
    "\n",
    "# scroll to the bottom of the page to load all the reports\n",
    "scroll_to_bottom()\n",
    "\n",
    "# extract the URLs of all PDF reports\n",
    "soup = BeautifulSoup(driver.page_source, 'html.parser')\n",
    "pdf_urls = [a['href'] for a in soup.find_all('a', href=True) if a['href'].endswith('.pdf')]\n",
    "\n",
    "# print the PDF URLs\n",
    "print(pdf_urls)\n",
    "\n",
    "# close the driver\n",
    "driver.quit()\n"
   ]
  }
 ],
 "metadata": {
  "kernelspec": {
   "display_name": "env",
   "language": "python",
   "name": "python3"
  },
  "language_info": {
   "codemirror_mode": {
    "name": "ipython",
    "version": 3
   },
   "file_extension": ".py",
   "mimetype": "text/x-python",
   "name": "python",
   "nbconvert_exporter": "python",
   "pygments_lexer": "ipython3",
   "version": "3.11.3"
  },
  "orig_nbformat": 4
 },
 "nbformat": 4,
 "nbformat_minor": 2
}
